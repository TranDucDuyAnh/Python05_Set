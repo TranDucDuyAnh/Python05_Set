{
  "nbformat": 4,
  "nbformat_minor": 0,
  "metadata": {
    "colab": {
      "provenance": [],
      "authorship_tag": "ABX9TyOWehnd1bHYsgUKSCHaOWXv",
      "include_colab_link": true
    },
    "kernelspec": {
      "name": "python3",
      "display_name": "Python 3"
    },
    "language_info": {
      "name": "python"
    }
  },
  "cells": [
    {
      "cell_type": "markdown",
      "metadata": {
        "id": "view-in-github",
        "colab_type": "text"
      },
      "source": [
        "<a href=\"https://colab.research.google.com/github/TranDucDuyAnh/Python05_Set/blob/main/Bai05_Set_11_11.ipynb\" target=\"_parent\"><img src=\"https://colab.research.google.com/assets/colab-badge.svg\" alt=\"Open In Colab\"/></a>"
      ]
    },
    {
      "cell_type": "markdown",
      "source": [
        "1. Tạo tập A và B"
      ],
      "metadata": {
        "id": "jDFPfoWAlUzp"
      }
    },
    {
      "cell_type": "code",
      "execution_count": null,
      "metadata": {
        "id": "iv8w4cTdk_u4"
      },
      "outputs": [],
      "source": [
        "a = {\"NNLT Python\", \"Đại số tuyến tính\", \"Tiếng Anh chuyên ngành\", \"Thể dục\"}\n",
        "b = {\"NNLT Python\", \"Đại số tuyến tính\", \"Tối ưu hóa\", \"Học Máy\", \"Học sâu\", \"Computer vision\", \"Natural Language Processing\", \"Recommender Systems\"}"
      ]
    },
    {
      "cell_type": "markdown",
      "source": [
        "2. In A và B"
      ],
      "metadata": {
        "id": "4wFxRwuZlpCf"
      }
    },
    {
      "cell_type": "code",
      "source": [
        "print(a)\n",
        "print(b)"
      ],
      "metadata": {
        "colab": {
          "base_uri": "https://localhost:8080/"
        },
        "id": "_cti8yI8lwlL",
        "outputId": "d63d86ce-6d29-46ae-942f-8e1afe063806"
      },
      "execution_count": null,
      "outputs": [
        {
          "output_type": "stream",
          "name": "stdout",
          "text": [
            "{'NNLT Python', 'Đại số tuyến tính', 'Thể dục', 'Tiếng Anh chuyên ngành'}\n",
            "{'Học Máy', 'Đại số tuyến tính', 'Recommender Systems', 'NNLT Python', 'Học sâu', 'Natural Language Processing', 'Tối ưu hóa', 'Computer vision'}\n"
          ]
        }
      ]
    },
    {
      "cell_type": "markdown",
      "source": [
        "3. Thực hiện A hợp B và in ra màn hình"
      ],
      "metadata": {
        "id": "TzVyXsJ6l7ro"
      }
    },
    {
      "cell_type": "code",
      "source": [
        "c = a.union(b)\n",
        "print(c)"
      ],
      "metadata": {
        "colab": {
          "base_uri": "https://localhost:8080/"
        },
        "id": "qvV6jJPAmGzA",
        "outputId": "26470b18-0793-4019-f0a8-0d3da7765d56"
      },
      "execution_count": null,
      "outputs": [
        {
          "output_type": "stream",
          "name": "stdout",
          "text": [
            "{'Học Máy', 'Đại số tuyến tính', 'Recommender Systems', 'NNLT Python', 'Học sâu', 'Natural Language Processing', 'Tiếng Anh chuyên ngành', 'Thể dục', 'Tối ưu hóa', 'Computer vision'}\n"
          ]
        }
      ]
    },
    {
      "cell_type": "markdown",
      "source": [
        "4. Thực hiện A giao B và in ra màn hình"
      ],
      "metadata": {
        "id": "seUHAtFvmYEg"
      }
    },
    {
      "cell_type": "code",
      "source": [
        "d = a.intersection(b)\n",
        "print(d)"
      ],
      "metadata": {
        "colab": {
          "base_uri": "https://localhost:8080/"
        },
        "id": "rEzq53rBmqnw",
        "outputId": "013aebf8-1341-42d0-deab-e48bfe9ee610"
      },
      "execution_count": null,
      "outputs": [
        {
          "output_type": "stream",
          "name": "stdout",
          "text": [
            "{'NNLT Python', 'Đại số tuyến tính'}\n"
          ]
        }
      ]
    },
    {
      "cell_type": "markdown",
      "source": [
        "5. Thực hiện A ∖ B và B ∖ A và in ra màn hình"
      ],
      "metadata": {
        "id": "lRrD9aoUncHq"
      }
    },
    {
      "cell_type": "code",
      "source": [
        "e = a.difference(b)\n",
        "g = b.difference(a)\n",
        "print(\"A \\ B =\", e)\n",
        "print(\"B \\ A =\", g)"
      ],
      "metadata": {
        "colab": {
          "base_uri": "https://localhost:8080/"
        },
        "id": "NHgtbWZFnhOI",
        "outputId": "e54e5d9c-5f2f-418b-e0f8-0f2ef8aec0b8"
      },
      "execution_count": null,
      "outputs": [
        {
          "output_type": "stream",
          "name": "stdout",
          "text": [
            "A \\ B = {'Thể dục', 'Tiếng Anh chuyên ngành'}\n",
            "B \\ A = {'Học Máy', 'Recommender Systems', 'Học sâu', 'Natural Language Processing', 'Tối ưu hóa', 'Computer vision'}\n"
          ]
        }
      ]
    },
    {
      "cell_type": "markdown",
      "source": [
        "6. Cho cấu trúc list sau: x = [1, 1, 1, 2, 2, 3, 3 ,3, 4 ,5 ,6, 7]. Hãy in x ra màn hình. Sau đó chuyển\n",
        "x thành cấu trúc kiểu set và in kết quả ra màn hình"
      ],
      "metadata": {
        "id": "ccI4_xLbn3cA"
      }
    },
    {
      "cell_type": "code",
      "source": [
        "x = [1, 1, 1, 2, 2, 3, 3 ,3, 4 ,5 ,6, 7]\n",
        "print(x)\n",
        "x = set(x)\n",
        "print(x)"
      ],
      "metadata": {
        "colab": {
          "base_uri": "https://localhost:8080/"
        },
        "id": "DcVTWcUdn60w",
        "outputId": "eb288d65-37e6-4c04-b639-332721f87e8c"
      },
      "execution_count": null,
      "outputs": [
        {
          "output_type": "stream",
          "name": "stdout",
          "text": [
            "[1, 1, 1, 2, 2, 3, 3, 3, 4, 5, 6, 7]\n",
            "{1, 2, 3, 4, 5, 6, 7}\n"
          ]
        }
      ]
    }
  ]
}